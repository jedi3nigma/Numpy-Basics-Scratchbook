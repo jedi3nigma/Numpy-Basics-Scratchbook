{
 "cells": [
  {
   "cell_type": "markdown",
   "metadata": {},
   "source": [
    "# Numpy tutorial"
   ]
  },
  {
   "cell_type": "markdown",
   "metadata": {},
   "source": [
    "### Import libraries"
   ]
  },
  {
   "cell_type": "code",
   "execution_count": 1,
   "metadata": {},
   "outputs": [],
   "source": [
    "import numpy as np\n",
    "import string"
   ]
  },
  {
   "cell_type": "markdown",
   "metadata": {},
   "source": [
    "### Creating 1 x d array"
   ]
  },
  {
   "cell_type": "code",
   "execution_count": 2,
   "metadata": {},
   "outputs": [
    {
     "data": {
      "text/plain": [
       "array([ 1,  2,  3,  4,  5,  6,  7,  8,  9, 10])"
      ]
     },
     "execution_count": 2,
     "metadata": {},
     "output_type": "execute_result"
    }
   ],
   "source": [
    "sample_list = [1,2,3,4,5,6,7,8,9,10]\n",
    "# default data type is the data type in the list\n",
    "np.array(sample_list)"
   ]
  },
  {
   "cell_type": "code",
   "execution_count": 3,
   "metadata": {},
   "outputs": [
    {
     "data": {
      "text/plain": [
       "array(['a', 'b', 'c', 'd', 'e', 'f', 'g', 'h', 'i', 'j', 'k', 'l', 'm',\n",
       "       'n', 'o', 'p', 'q', 'r', 's', 't', 'u', 'v', 'w', 'x', 'y', 'z',\n",
       "       'A', 'B', 'C', 'D', 'E', 'F', 'G', 'H', 'I', 'J', 'K', 'L', 'M',\n",
       "       'N', 'O', 'P', 'Q', 'R', 'S', 'T', 'U', 'V', 'W', 'X', 'Y', 'Z'],\n",
       "      dtype='<U1')"
      ]
     },
     "execution_count": 3,
     "metadata": {},
     "output_type": "execute_result"
    }
   ],
   "source": [
    "# can even be array of strings\n",
    "np.array(list(string.ascii_letters))"
   ]
  },
  {
   "cell_type": "code",
   "execution_count": 4,
   "metadata": {},
   "outputs": [
    {
     "data": {
      "text/plain": [
       "array([ 1.,  2.,  3.,  4.,  5.,  6.,  7.,  8.,  9., 10.], dtype=float32)"
      ]
     },
     "execution_count": 4,
     "metadata": {},
     "output_type": "execute_result"
    }
   ],
   "source": [
    "# data type of array can be set to specific type\n",
    "np.array(sample_list,dtype=np.float32)"
   ]
  },
  {
   "cell_type": "markdown",
   "metadata": {},
   "source": [
    "### Creating a sequence of array numbers"
   ]
  },
  {
   "cell_type": "code",
   "execution_count": 5,
   "metadata": {},
   "outputs": [
    {
     "data": {
      "text/plain": [
       "array([ 0,  1,  2,  3,  4,  5,  6,  7,  8,  9, 10])"
      ]
     },
     "execution_count": 5,
     "metadata": {},
     "output_type": "execute_result"
    }
   ],
   "source": [
    "# creates array sequence up to n-1 numbers (similar \"range\" but in array form)\n",
    "np.arange(11)"
   ]
  },
  {
   "cell_type": "code",
   "execution_count": 6,
   "metadata": {},
   "outputs": [
    {
     "data": {
      "text/plain": [
       "array([ 2,  4,  6,  8, 10])"
      ]
     },
     "execution_count": 6,
     "metadata": {},
     "output_type": "execute_result"
    }
   ],
   "source": [
    "# customize start, stop and step size of array numbers\n",
    "np.arange(2, 11, 2)"
   ]
  },
  {
   "cell_type": "markdown",
   "metadata": {},
   "source": [
    "### Creating custom n x d array"
   ]
  },
  {
   "cell_type": "code",
   "execution_count": 7,
   "metadata": {},
   "outputs": [],
   "source": [
    "sample_list_2 = list(range(10, 20))\n",
    "array_2d = np.array([sample_list, sample_list_2])"
   ]
  },
  {
   "cell_type": "markdown",
   "metadata": {},
   "source": [
    "### Specialized preset array set-ups"
   ]
  },
  {
   "cell_type": "code",
   "execution_count": 8,
   "metadata": {},
   "outputs": [
    {
     "data": {
      "text/plain": [
       "array([[0., 0., 0., 0., 0.],\n",
       "       [0., 0., 0., 0., 0.],\n",
       "       [0., 0., 0., 0., 0.],\n",
       "       [0., 0., 0., 0., 0.]])"
      ]
     },
     "execution_count": 8,
     "metadata": {},
     "output_type": "execute_result"
    }
   ],
   "source": [
    "# create zeros array of given (x,y) dimension\n",
    "np.zeros((4,5))"
   ]
  },
  {
   "cell_type": "code",
   "execution_count": 9,
   "metadata": {},
   "outputs": [
    {
     "data": {
      "text/plain": [
       "array([[1, 1, 1, 1],\n",
       "       [1, 1, 1, 1]])"
      ]
     },
     "execution_count": 9,
     "metadata": {},
     "output_type": "execute_result"
    }
   ],
   "source": [
    "# create array of 1s (data type can be specified)\n",
    "np.ones((2,4), dtype=np.int32)"
   ]
  },
  {
   "cell_type": "code",
   "execution_count": 10,
   "metadata": {},
   "outputs": [
    {
     "data": {
      "text/plain": [
       "array([[4, 4, 4],\n",
       "       [4, 4, 4]])"
      ]
     },
     "execution_count": 10,
     "metadata": {},
     "output_type": "execute_result"
    }
   ],
   "source": [
    "# create array of specific value\n",
    "np.full((2,3),4)"
   ]
  },
  {
   "cell_type": "code",
   "execution_count": 11,
   "metadata": {},
   "outputs": [
    {
     "data": {
      "text/plain": [
       "array([[ 6,  8,  9, 17],\n",
       "       [10,  6, 24, 17]])"
      ]
     },
     "execution_count": 11,
     "metadata": {},
     "output_type": "execute_result"
    }
   ],
   "source": [
    "# create array of random int numbers\n",
    "np.random.randint(5, 25, size=(2,4))"
   ]
  },
  {
   "cell_type": "code",
   "execution_count": 12,
   "metadata": {},
   "outputs": [
    {
     "data": {
      "text/plain": [
       "array([0.98922097, 0.6099171 , 0.65066929, 0.85471729, 0.61422071])"
      ]
     },
     "execution_count": 12,
     "metadata": {},
     "output_type": "execute_result"
    }
   ],
   "source": [
    "# create array of random numbers between 0 and 1 (from uniform distribution)\n",
    "np.random.rand(5,)"
   ]
  },
  {
   "cell_type": "code",
   "execution_count": 13,
   "metadata": {},
   "outputs": [
    {
     "name": "stdout",
     "output_type": "stream",
     "text": [
      "[[ 0.47901532  2.04948849 -1.14890001  0.52533713]\n",
      " [ 1.35549787 -0.8768839   1.10023188  0.07130925]\n",
      " [-0.59767039  1.34448327  0.25086005 -0.29280297]] \n",
      "\n",
      "Check mean:  0.0005427387464689994\n",
      "Check standard deviation:  0.9998245946834824\n"
     ]
    }
   ],
   "source": [
    "# create array of random numbers (from Normal distribution)\n",
    "print(np.random.randn(3,4),'\\n')\n",
    "\n",
    "print('Check mean: ', np.random.randn(3000,3000).mean())\n",
    "print('Check standard deviation: ', np.random.randn(3000,3000).std())"
   ]
  },
  {
   "cell_type": "code",
   "execution_count": 14,
   "metadata": {},
   "outputs": [
    {
     "data": {
      "text/plain": [
       "array([['cat', 'lizard', 'rabbit', 'rabbit'],\n",
       "       ['lizard', 'lizard', 'lizard', 'lizard'],\n",
       "       ['rabbit', 'turtle', 'cat', 'lizard']], dtype='<U6')"
      ]
     },
     "execution_count": 14,
     "metadata": {},
     "output_type": "execute_result"
    }
   ],
   "source": [
    "# create array from random selection given list of choices (default probabilities is uniform, though can still be customized)\n",
    "np.random.choice(['dog', 'cat', 'rabbit', 'turtle', 'lizard'], size=(3,4), replace=True, p=[0.05, 0.15, 0.4, 0.2, 0.2])"
   ]
  },
  {
   "cell_type": "markdown",
   "metadata": {},
   "source": [
    "### Array properties"
   ]
  },
  {
   "cell_type": "code",
   "execution_count": 15,
   "metadata": {},
   "outputs": [
    {
     "name": "stdout",
     "output_type": "stream",
     "text": [
      "Shape: (2, 10)\n",
      "Row: 2\n",
      "Columns: 10\n",
      "Size (n * d): 20\n",
      "Dimensions (n): 2\n"
     ]
    }
   ],
   "source": [
    "print('Shape:', array_2d.shape)\n",
    "print('Row:', array_2d.shape[0])\n",
    "print('Columns:', array_2d.shape[1])\n",
    "print('Size (n * d):', array_2d.size)\n",
    "print('Dimensions (n):', array_2d.ndim)"
   ]
  },
  {
   "cell_type": "markdown",
   "metadata": {},
   "source": [
    "### Changing dimensions of array"
   ]
  },
  {
   "cell_type": "code",
   "execution_count": 16,
   "metadata": {},
   "outputs": [
    {
     "name": "stdout",
     "output_type": "stream",
     "text": [
      "[[69 54 58 41 40 50]\n",
      " [93 33 40 32 54 51]\n",
      " [51 90 79 62 69 75]\n",
      " [63 35 54 80 30 42]]\n"
     ]
    },
    {
     "data": {
      "text/plain": [
       "array([[69, 54, 58, 41, 40, 50, 93, 33],\n",
       "       [40, 32, 54, 51, 51, 90, 79, 62],\n",
       "       [69, 75, 63, 35, 54, 80, 30, 42]])"
      ]
     },
     "execution_count": 16,
     "metadata": {},
     "output_type": "execute_result"
    }
   ],
   "source": [
    "arr_reshape = np.random.randint(30, 94, size=(4,6))\n",
    "print(arr_reshape)\n",
    "np.reshape(arr_reshape, (3,8))"
   ]
  },
  {
   "cell_type": "code",
   "execution_count": 17,
   "metadata": {},
   "outputs": [
    {
     "name": "stdout",
     "output_type": "stream",
     "text": [
      "Reshaped as (2,12):\n",
      " [[69 54 58 41 40 50 93 33 40 32 54 51]\n",
      " [51 90 79 62 69 75 63 35 54 80 30 42]]\n",
      "Reshaped as (8,3):\n",
      " [[69 54 58]\n",
      " [41 40 50]\n",
      " [93 33 40]\n",
      " [32 54 51]\n",
      " [51 90 79]\n",
      " [62 69 75]\n",
      " [63 35 54]\n",
      " [80 30 42]]\n"
     ]
    }
   ],
   "source": [
    "# can input '-1' to respective dimension if you do not know the exact size\n",
    "print('Reshaped as (2,12):\\n', np.reshape(arr_reshape, (2,-1)))\n",
    "print('Reshaped as (8,3):\\n', np.reshape(arr_reshape, (-1,3)))"
   ]
  },
  {
   "cell_type": "code",
   "execution_count": 18,
   "metadata": {},
   "outputs": [
    {
     "name": "stdout",
     "output_type": "stream",
     "text": [
      "To 1-D (deep copy):  [69 54 58 41 40 50 93 33 40 32 54 51 51 90 79 62 69 75 63 35 54 80 30 42]\n",
      "To 1-D (shallow copy):  [69 54 58 41 40 50 93 33 40 32 54 51 51 90 79 62 69 75 63 35 54 80 30 42]\n"
     ]
    }
   ],
   "source": [
    "# transforming from (n x d) to (1 x d) array\n",
    "print('To 1-D (deep copy): ', arr_reshape.flatten())\n",
    "print('To 1-D (shallow copy): ', arr_reshape.ravel())"
   ]
  },
  {
   "cell_type": "code",
   "execution_count": 19,
   "metadata": {},
   "outputs": [
    {
     "data": {
      "text/plain": [
       "array([[69, 93, 51, 63],\n",
       "       [54, 33, 90, 35],\n",
       "       [58, 40, 79, 54],\n",
       "       [41, 32, 62, 80],\n",
       "       [40, 54, 69, 30],\n",
       "       [50, 51, 75, 42]])"
      ]
     },
     "execution_count": 19,
     "metadata": {},
     "output_type": "execute_result"
    }
   ],
   "source": [
    "# transposing array (swap rows, columns or from (n x d) to (d x n))\n",
    "arr_reshape.transpose()"
   ]
  },
  {
   "cell_type": "code",
   "execution_count": 20,
   "metadata": {},
   "outputs": [
    {
     "name": "stdout",
     "output_type": "stream",
     "text": [
      "Current shape:  (4, 6)\n",
      "New shape (with new axis made at index of axis):  (1, 4, 6)\n"
     ]
    }
   ],
   "source": [
    "# adding new axis to array\n",
    "print('Current shape: ', arr_reshape.shape)\n",
    "arr_reshape_new = np.expand_dims(arr_reshape, axis=0)\n",
    "print('New shape (with new axis made at index of axis): ', arr_reshape_new.shape)"
   ]
  },
  {
   "cell_type": "code",
   "execution_count": 21,
   "metadata": {},
   "outputs": [
    {
     "name": "stdout",
     "output_type": "stream",
     "text": [
      "Current shape:  (1, 4, 6)\n",
      "New shape (with new axis made at index of axis):  (4, 6)\n"
     ]
    }
   ],
   "source": [
    "# removing axis from an array\n",
    "print('Current shape: ', arr_reshape_new.shape)\n",
    "arr_reshape_remove = np.squeeze(arr_reshape_new, axis=0)\n",
    "print('New shape (with new axis made at index of axis): ', arr_reshape_remove.shape)"
   ]
  },
  {
   "cell_type": "markdown",
   "metadata": {},
   "source": [
    "### Combining arrays"
   ]
  },
  {
   "cell_type": "code",
   "execution_count": 22,
   "metadata": {},
   "outputs": [
    {
     "data": {
      "text/plain": [
       "array([[ 0,  1,  2,  3,  4,  5],\n",
       "       [69, 54, 58, 41, 40, 50],\n",
       "       [93, 33, 40, 32, 54, 51],\n",
       "       [51, 90, 79, 62, 69, 75],\n",
       "       [63, 35, 54, 80, 30, 42]])"
      ]
     },
     "execution_count": 22,
     "metadata": {},
     "output_type": "execute_result"
    }
   ],
   "source": [
    "# combine vertically\n",
    "new_arr_v = np.arange(arr_reshape.shape[1])\n",
    "np.vstack((new_arr_v, arr_reshape))"
   ]
  },
  {
   "cell_type": "code",
   "execution_count": 23,
   "metadata": {},
   "outputs": [
    {
     "data": {
      "text/plain": [
       "array([[69, 54, 58, 41, 40, 50,  0],\n",
       "       [93, 33, 40, 32, 54, 51,  1],\n",
       "       [51, 90, 79, 62, 69, 75,  2],\n",
       "       [63, 35, 54, 80, 30, 42,  3]])"
      ]
     },
     "execution_count": 23,
     "metadata": {},
     "output_type": "execute_result"
    }
   ],
   "source": [
    "# combine horizontally\n",
    "new_arr_h = np.arange(arr_reshape.shape[0]).reshape(-1,1)\n",
    "np.hstack((arr_reshape, new_arr_h))"
   ]
  },
  {
   "cell_type": "code",
   "execution_count": 24,
   "metadata": {},
   "outputs": [
    {
     "name": "stdout",
     "output_type": "stream",
     "text": [
      "New array after combination:\n",
      " [[[69  0]\n",
      "  [54  0]\n",
      "  [58  0]\n",
      "  [41  0]\n",
      "  [40  1]\n",
      "  [50  1]]\n",
      "\n",
      " [[93  1]\n",
      "  [33  1]\n",
      "  [40  0]\n",
      "  [32  1]\n",
      "  [54  1]\n",
      "  [51  1]]\n",
      "\n",
      " [[51  0]\n",
      "  [90  1]\n",
      "  [79  1]\n",
      "  [62  0]\n",
      "  [69  1]\n",
      "  [75  1]]\n",
      "\n",
      " [[63  1]\n",
      "  [35  1]\n",
      "  [54  1]\n",
      "  [80  0]\n",
      "  [30  0]\n",
      "  [42  0]]] \n",
      "\n",
      "Size:  (4, 6, 2)\n"
     ]
    }
   ],
   "source": [
    "# combine depth-wise (in a new-axis)\n",
    "arr_reshape_2 = np.random.randint(2, size=(4,6))\n",
    "arr_3d = np.dstack((arr_reshape, arr_reshape_2))\n",
    "print('New array after combination:\\n', arr_3d, '\\n')\n",
    "print('Size: ', np.dstack((arr_reshape, arr_reshape_2)).shape)"
   ]
  },
  {
   "cell_type": "code",
   "execution_count": 25,
   "metadata": {},
   "outputs": [
    {
     "name": "stdout",
     "output_type": "stream",
     "text": [
      "Axis=0:\n",
      " [[241 288 248 215 239]\n",
      " [188 125 128 175 124]\n",
      " [ 96  51  29  16  18]] \n",
      "\n",
      "Axis=1:\n",
      " [[241 288 248 215 239 188 125 128 175 124  96  51  29  16  18]]\n"
     ]
    }
   ],
   "source": [
    "# concatenate arrays - can be done side-by-side (axis=1) or stacked on top (axis=0)\n",
    "rand_arr1 = np.random.randint(200, 300, size=(1,5))\n",
    "rand_arr2 = np.random.randint(100, 200, size=(1,5))\n",
    "rand_arr3 = np.random.randint(100, size=(1,5))\n",
    "\n",
    "print('Axis=0:\\n', np.concatenate((rand_arr1, rand_arr2, rand_arr3)), '\\n')\n",
    "print('Axis=1:\\n', np.concatenate((rand_arr1, rand_arr2, rand_arr3), axis=1))"
   ]
  },
  {
   "cell_type": "code",
   "execution_count": 26,
   "metadata": {},
   "outputs": [
    {
     "data": {
      "text/plain": [
       "array([[241, 288, 248, 215, 239],\n",
       "       [188, 125, 128, 175, 124],\n",
       "       [ 96,  51,  29,  16,  18]])"
      ]
     },
     "execution_count": 26,
     "metadata": {},
     "output_type": "execute_result"
    }
   ],
   "source": [
    "# append can add array at the end of existing array\n",
    "rand_arr12 = np.concatenate((rand_arr1, rand_arr2))\n",
    "np.append(rand_arr12, rand_arr3, axis=0)"
   ]
  },
  {
   "cell_type": "markdown",
   "metadata": {},
   "source": [
    "### Slicing arrays"
   ]
  },
  {
   "cell_type": "code",
   "execution_count": 27,
   "metadata": {},
   "outputs": [
    {
     "name": "stdout",
     "output_type": "stream",
     "text": [
      "Original array:\n",
      " [[ 1  2  3  4  5  6  7  8  9 10]\n",
      " [10 11 12 13 14 15 16 17 18 19]] \n",
      "\n",
      "2nd row:  [10 11 12 13 14 15 16 17 18 19]\n"
     ]
    }
   ],
   "source": [
    "# similar slicing lists\n",
    "# original array\n",
    "print('Original array:\\n', array_2d, '\\n')\n",
    "# 1) access 2nd row\n",
    "print('2nd row: ', array_2d[1])"
   ]
  },
  {
   "cell_type": "code",
   "execution_count": 28,
   "metadata": {},
   "outputs": [
    {
     "name": "stdout",
     "output_type": "stream",
     "text": [
      "5th column: [ 5 14]\n"
     ]
    }
   ],
   "source": [
    "# 2) access 5th column\n",
    "print('5th column:', array_2d[:, 4])"
   ]
  },
  {
   "cell_type": "code",
   "execution_count": 29,
   "metadata": {},
   "outputs": [
    {
     "name": "stdout",
     "output_type": "stream",
     "text": [
      "Original array:\n",
      " [[ 1  2  3  4  5]\n",
      " [ 6  7  8  9 10]\n",
      " [10 11 12 13 14]\n",
      " [15 16 17 18 19]] \n",
      "\n",
      "Rows 1,2 & Columns 2-3:\n",
      " [[3 4]\n",
      " [8 9]]\n"
     ]
    }
   ],
   "source": [
    "# 3) access rows 1 and 2 & columns 2 to 3\n",
    "array_2d_2 = array_2d.ravel().reshape(4,5)\n",
    "print('Original array:\\n', array_2d_2, '\\n')\n",
    "print('Rows 1,2 & Columns 2-3:\\n', array_2d_2[:2, 2:4])"
   ]
  },
  {
   "cell_type": "code",
   "execution_count": 30,
   "metadata": {},
   "outputs": [
    {
     "name": "stdout",
     "output_type": "stream",
     "text": [
      "Original array:\n",
      " [[[69  0 54]\n",
      "  [ 0 58  0]\n",
      "  [41  0 40]\n",
      "  [ 1 50  1]]\n",
      "\n",
      " [[93  1 33]\n",
      "  [ 1 40  0]\n",
      "  [32  1 54]\n",
      "  [ 1 51  1]]\n",
      "\n",
      " [[51  0 90]\n",
      "  [ 1 79  1]\n",
      "  [62  0 69]\n",
      "  [ 1 75  1]]\n",
      "\n",
      " [[63  1 35]\n",
      "  [ 1 54  1]\n",
      "  [80  0 30]\n",
      "  [ 0 42  0]]] \n",
      "\n",
      "Rows 2, columns 2-3, depth 1-2:\n",
      " [[32  1]\n",
      " [62  0]]\n"
     ]
    }
   ],
   "source": [
    "# 4) access rows 2, columns 0-1, depth 1-2\n",
    "array_3d_2 = arr_3d.ravel().reshape(4,4,3)\n",
    "print('Original array:\\n', array_3d_2, '\\n')\n",
    "print('Rows 2, columns 2-3, depth 1-2:\\n', array_3d_2[1:3, 2, 0:2])"
   ]
  },
  {
   "cell_type": "markdown",
   "metadata": {},
   "source": [
    "### Arithmetics with arrays"
   ]
  },
  {
   "cell_type": "code",
   "execution_count": 31,
   "metadata": {},
   "outputs": [
    {
     "name": "stdout",
     "output_type": "stream",
     "text": [
      "Size of a1:  (3, 5)\n",
      "Size of a2:  (3, 1)\n",
      "Size of a3:  (1, 5)\n",
      "Original a1:\n",
      " [[10  6 11  6  4]\n",
      " [11 11  8  9  9]\n",
      " [ 9  5  6 11  8]] \n",
      "\n",
      "After adding a2:\n",
      " [[11  7 12  7  5]\n",
      " [13 13 10 11 11]\n",
      " [13  9 10 15 12]]\n"
     ]
    }
   ],
   "source": [
    "a1 = np.random.randint(4, 12, size=(3,5))\n",
    "a2 = np.array([[1], \n",
    "               [2], \n",
    "               [4]])\n",
    "a3 = np.array([[1,3,5,7,9]])\n",
    "print('Size of a1: ', a1.shape)\n",
    "print('Size of a2: ', a2.shape)\n",
    "print('Size of a3: ', a3.shape)\n",
    "\n",
    "# addition via broadcasting - note row dimension are the same for both arrays\n",
    "print('Original a1:\\n', a1, '\\n')\n",
    "print('After adding a2:\\n', a1+a2)"
   ]
  },
  {
   "cell_type": "code",
   "execution_count": 32,
   "metadata": {},
   "outputs": [
    {
     "name": "stdout",
     "output_type": "stream",
     "text": [
      "Original a1:\n",
      " [[10  6 11  6  4]\n",
      " [11 11  8  9  9]\n",
      " [ 9  5  6 11  8]] \n",
      "\n",
      "After multiplying a3:\n",
      " [[10 18 55 42 36]\n",
      " [11 33 40 63 81]\n",
      " [ 9 15 30 77 72]]\n"
     ]
    }
   ],
   "source": [
    "# multiplication via broadcasting - note column dimension are the same for both arrays\n",
    "print('Original a1:\\n', a1, '\\n')\n",
    "print('After multiplying a3:\\n', a1*a3)"
   ]
  },
  {
   "cell_type": "markdown",
   "metadata": {},
   "source": [
    "### Descriptive statistics"
   ]
  },
  {
   "cell_type": "code",
   "execution_count": 33,
   "metadata": {},
   "outputs": [
    {
     "name": "stdout",
     "output_type": "stream",
     "text": [
      "Min (row-wise):  [4 8 5]\n",
      "Min (column-wise):  [9 5 6 6 4]\n",
      "Max (row-wise):  [11 11 11]\n",
      "Max (column-wise):  [11 11 11 11  9]\n",
      "Index of Min (row-wise):  [4 2 1]\n",
      "Index of Min (column-wise):  [2 2 2 0 0]\n",
      "Index of Max (row-wise):  [2 0 3]\n",
      "Index of Max (column-wise):  [1 1 0 2 1]\n",
      "Mean (row-wise):  [7.4 9.6 7.8]\n",
      "Mean (column-wise):  [10.          7.33333333  8.33333333  8.66666667  7.        ]\n",
      "Median (row-wise):  [6. 9. 8.]\n",
      "Median (column-wise):  [10.  6.  8.  9.  8.]\n",
      "Std Dev (row-wise):  [2.65329983 1.2        2.13541565]\n",
      "Std Dev (column-wise):  [0.81649658 2.62466929 2.05480467 2.05480467 2.1602469 ]\n"
     ]
    }
   ],
   "source": [
    "# min\n",
    "print('Min (row-wise): ', a1.min(axis=1))\n",
    "print('Min (column-wise): ', a1.min(axis=0))\n",
    "# max\n",
    "print('Max (row-wise): ', a1.max(axis=1))\n",
    "print('Max (column-wise): ', a1.max(axis=0))\n",
    "# index of min value (argmin)\n",
    "print('Index of Min (row-wise): ', a1.argmin(axis=1))\n",
    "print('Index of Min (column-wise): ', a1.argmin(axis=0))\n",
    "# index of max value (argmax)\n",
    "print('Index of Max (row-wise): ', a1.argmax(axis=1))\n",
    "print('Index of Max (column-wise): ', a1.argmax(axis=0))\n",
    "# mean\n",
    "print('Mean (row-wise): ', a1.mean(axis=1))\n",
    "print('Mean (column-wise): ', a1.mean(axis=0))\n",
    "# median\n",
    "print('Median (row-wise): ', np.median(a1, axis=1))\n",
    "print('Median (column-wise): ', np.median(a1, axis=0))\n",
    "# standard deviation\n",
    "print('Std Dev (row-wise): ', np.std(a1, axis=1))\n",
    "print('Std Dev (column-wise): ', np.std(a1, axis=0))"
   ]
  },
  {
   "cell_type": "code",
   "execution_count": null,
   "metadata": {},
   "outputs": [],
   "source": []
  }
 ],
 "metadata": {
  "kernelspec": {
   "display_name": "Python 3",
   "language": "python",
   "name": "python3"
  },
  "language_info": {
   "codemirror_mode": {
    "name": "ipython",
    "version": 3
   },
   "file_extension": ".py",
   "mimetype": "text/x-python",
   "name": "python",
   "nbconvert_exporter": "python",
   "pygments_lexer": "ipython3",
   "version": "3.9.0"
  }
 },
 "nbformat": 4,
 "nbformat_minor": 4
}
