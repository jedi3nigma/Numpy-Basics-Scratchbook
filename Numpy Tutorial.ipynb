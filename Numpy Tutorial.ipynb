{
 "cells": [
  {
   "cell_type": "markdown",
   "metadata": {},
   "source": [
    "# Numpy tutorial"
   ]
  },
  {
   "cell_type": "markdown",
   "metadata": {},
   "source": [
    "### Import libraries"
   ]
  },
  {
   "cell_type": "code",
   "execution_count": null,
   "metadata": {},
   "outputs": [],
   "source": [
    "import numpy as np\n",
    "import string"
   ]
  },
  {
   "cell_type": "markdown",
   "metadata": {},
   "source": [
    "### Creating 1 x d array"
   ]
  },
  {
   "cell_type": "code",
   "execution_count": null,
   "metadata": {},
   "outputs": [],
   "source": [
    "sample_list = [1,2,3,4,5,6,7,8,9,10]\n",
    "# default data type is the data type in the list\n",
    "np.array(sample_list)"
   ]
  },
  {
   "cell_type": "code",
   "execution_count": null,
   "metadata": {},
   "outputs": [],
   "source": [
    "# can even be array of strings\n",
    "np.array(list(string.ascii_letters))"
   ]
  },
  {
   "cell_type": "code",
   "execution_count": null,
   "metadata": {},
   "outputs": [],
   "source": [
    "# data type of array can be set to specific type\n",
    "np.array(sample_list,dtype=np.float32)"
   ]
  },
  {
   "cell_type": "markdown",
   "metadata": {},
   "source": [
    "### Creating a sequence of array numbers"
   ]
  },
  {
   "cell_type": "code",
   "execution_count": null,
   "metadata": {},
   "outputs": [],
   "source": [
    "# creates array sequence up to n-1 numbers (similar \"range\" but in array form)\n",
    "np.arange(11)"
   ]
  },
  {
   "cell_type": "code",
   "execution_count": null,
   "metadata": {},
   "outputs": [],
   "source": [
    "# customize start, stop and step size of array numbers\n",
    "np.arange(2, 11, 2)"
   ]
  },
  {
   "cell_type": "markdown",
   "metadata": {},
   "source": [
    "### Creating custom n x d array"
   ]
  },
  {
   "cell_type": "code",
   "execution_count": null,
   "metadata": {},
   "outputs": [],
   "source": [
    "sample_list_2 = list(range(10, 20))\n",
    "array_2d = np.array([sample_list, sample_list_2])"
   ]
  },
  {
   "cell_type": "markdown",
   "metadata": {},
   "source": [
    "### Specialized preset array set-ups"
   ]
  },
  {
   "cell_type": "code",
   "execution_count": null,
   "metadata": {},
   "outputs": [],
   "source": [
    "# create zeros array of given (x,y) dimension\n",
    "np.zeros((4,5))"
   ]
  },
  {
   "cell_type": "code",
   "execution_count": null,
   "metadata": {},
   "outputs": [],
   "source": [
    "# create array of 1s (data type can be specified)\n",
    "np.ones((2,4), dtype=np.int32)"
   ]
  },
  {
   "cell_type": "code",
   "execution_count": null,
   "metadata": {},
   "outputs": [],
   "source": [
    "# create array of specific value\n",
    "np.full((2,3),4)"
   ]
  },
  {
   "cell_type": "code",
   "execution_count": null,
   "metadata": {},
   "outputs": [],
   "source": [
    "# create array of random int numbers\n",
    "np.random.randint(5, 25, size=(2,4))"
   ]
  },
  {
   "cell_type": "code",
   "execution_count": null,
   "metadata": {},
   "outputs": [],
   "source": [
    "# create array of random numbers between 0 and 1 (from uniform distribution)\n",
    "np.random.rand(5,)"
   ]
  },
  {
   "cell_type": "code",
   "execution_count": null,
   "metadata": {},
   "outputs": [],
   "source": [
    "# create array of random numbers (from Normal distribution)\n",
    "print(np.random.randn(3,4),'\\n')\n",
    "\n",
    "print('Check mean: ', np.random.randn(3000,3000).mean())\n",
    "print('Check standard deviation: ', np.random.randn(3000,3000).std())"
   ]
  },
  {
   "cell_type": "code",
   "execution_count": null,
   "metadata": {},
   "outputs": [],
   "source": [
    "# create array from random selection given list of choices (default probabilities is uniform, though can still be customized)\n",
    "np.random.choice(['dog', 'cat', 'rabbit', 'turtle', 'lizard'], size=(3,4), replace=True, p=[0.05, 0.15, 0.4, 0.2, 0.2])"
   ]
  },
  {
   "cell_type": "markdown",
   "metadata": {},
   "source": [
    "### Array properties"
   ]
  },
  {
   "cell_type": "code",
   "execution_count": null,
   "metadata": {},
   "outputs": [],
   "source": [
    "print('Shape:', array_2d.shape)\n",
    "print('Row:', array_2d.shape[0])\n",
    "print('Columns:', array_2d.shape[1])\n",
    "print('Size (n * d):', array_2d.size)\n",
    "print('Dimensions (n):', array_2d.ndim)"
   ]
  },
  {
   "cell_type": "markdown",
   "metadata": {},
   "source": [
    "### Changing dimensions of array"
   ]
  },
  {
   "cell_type": "code",
   "execution_count": null,
   "metadata": {},
   "outputs": [],
   "source": [
    "arr_reshape = np.random.randint(30, 94, size=(4,6))\n",
    "print(arr_reshape)\n",
    "np.reshape(arr_reshape, (3,8))"
   ]
  },
  {
   "cell_type": "code",
   "execution_count": null,
   "metadata": {},
   "outputs": [],
   "source": [
    "# can input '-1' to respective dimension if you do not know the exact size\n",
    "print('Reshaped as (2,12):\\n', np.reshape(arr_reshape, (2,-1)))\n",
    "print('Reshaped as (8,3):\\n', np.reshape(arr_reshape, (-1,3)))"
   ]
  },
  {
   "cell_type": "code",
   "execution_count": null,
   "metadata": {},
   "outputs": [],
   "source": [
    "# transforming from (n x d) to (1 x d) array\n",
    "print('To 1-D (deep copy): ', arr_reshape.flatten())\n",
    "print('To 1-D (shallow copy): ', arr_reshape.ravel())"
   ]
  },
  {
   "cell_type": "code",
   "execution_count": null,
   "metadata": {},
   "outputs": [],
   "source": [
    "# transposing array (swap rows, columns or from (n x d) to (d x n))\n",
    "arr_reshape.transpose()"
   ]
  },
  {
   "cell_type": "code",
   "execution_count": null,
   "metadata": {},
   "outputs": [],
   "source": [
    "# adding new axis to array\n",
    "print('Current shape: ', arr_reshape.shape)\n",
    "arr_reshape_new = np.expand_dims(arr_reshape, axis=0)\n",
    "print('New shape (with new axis made at index of axis): ', arr_reshape_new.shape)"
   ]
  },
  {
   "cell_type": "code",
   "execution_count": null,
   "metadata": {},
   "outputs": [],
   "source": [
    "# removing axis from an array\n",
    "print('Current shape: ', arr_reshape_new.shape)\n",
    "arr_reshape_remove = np.squeeze(arr_reshape_new, axis=0)\n",
    "print('New shape (with new axis made at index of axis): ', arr_reshape_remove.shape)"
   ]
  },
  {
   "cell_type": "markdown",
   "metadata": {},
   "source": [
    "### Combining arrays"
   ]
  },
  {
   "cell_type": "code",
   "execution_count": null,
   "metadata": {},
   "outputs": [],
   "source": [
    "# combine vertically\n",
    "new_arr_v = np.arange(arr_reshape.shape[1])\n",
    "np.vstack((new_arr_v, arr_reshape))"
   ]
  },
  {
   "cell_type": "code",
   "execution_count": null,
   "metadata": {},
   "outputs": [],
   "source": [
    "# combine horizontally\n",
    "new_arr_h = np.arange(arr_reshape.shape[0]).reshape(-1,1)\n",
    "np.hstack((arr_reshape, new_arr_h))"
   ]
  },
  {
   "cell_type": "code",
   "execution_count": null,
   "metadata": {},
   "outputs": [],
   "source": [
    "# combine depth-wise (in a new-axis)\n",
    "arr_reshape_2 = np.random.randint(2, size=(4,6))\n",
    "arr_3d = np.dstack((arr_reshape, arr_reshape_2))\n",
    "print('New array after combination:\\n', arr_3d, '\\n')\n",
    "print('Size: ', np.dstack((arr_reshape, arr_reshape_2)).shape)"
   ]
  },
  {
   "cell_type": "code",
   "execution_count": null,
   "metadata": {},
   "outputs": [],
   "source": [
    "# concatenate arrays - can be done side-by-side (axis=1) or stacked on top (axis=0)\n",
    "rand_arr1 = np.random.randint(200, 300, size=(1,5))\n",
    "rand_arr2 = np.random.randint(100, 200, size=(1,5))\n",
    "rand_arr3 = np.random.randint(100, size=(1,5))\n",
    "\n",
    "print('Axis=0:\\n', np.concatenate((rand_arr1, rand_arr2, rand_arr3)), '\\n')\n",
    "print('Axis=1:\\n', np.concatenate((rand_arr1, rand_arr2, rand_arr3), axis=1))"
   ]
  },
  {
   "cell_type": "code",
   "execution_count": null,
   "metadata": {},
   "outputs": [],
   "source": [
    "# append can add array at the end of existing array\n",
    "rand_arr12 = np.concatenate((rand_arr1, rand_arr2))\n",
    "np.append(rand_arr12, rand_arr3, axis=0)"
   ]
  },
  {
   "cell_type": "markdown",
   "metadata": {},
   "source": [
    "### Slicing arrays"
   ]
  },
  {
   "cell_type": "code",
   "execution_count": null,
   "metadata": {},
   "outputs": [],
   "source": [
    "# similar slicing lists\n",
    "# original array\n",
    "print('Original array:\\n', array_2d, '\\n')\n",
    "# 1) access 2nd row\n",
    "print('2nd row: ', array_2d[1])"
   ]
  },
  {
   "cell_type": "code",
   "execution_count": null,
   "metadata": {},
   "outputs": [],
   "source": [
    "# 2) access 5th column\n",
    "print('5th column:', array_2d[:, 4])"
   ]
  },
  {
   "cell_type": "code",
   "execution_count": null,
   "metadata": {},
   "outputs": [],
   "source": [
    "# 3) access rows 1 and 2 & columns 2 to 3\n",
    "array_2d_2 = array_2d.ravel().reshape(4,5)\n",
    "print('Original array:\\n', array_2d_2, '\\n')\n",
    "print('Rows 1,2 & Columns 2-3:\\n', array_2d_2[:2, 2:4])"
   ]
  },
  {
   "cell_type": "code",
   "execution_count": null,
   "metadata": {},
   "outputs": [],
   "source": [
    "# 4) access rows 2, columns 0-1, depth 1-2\n",
    "array_3d_2 = arr_3d.ravel().reshape(4,4,3)\n",
    "print('Original array:\\n', array_3d_2, '\\n')\n",
    "print('Rows 2, columns 2-3, depth 1-2:\\n', array_3d_2[1:3, 2, 0:2])"
   ]
  },
  {
   "cell_type": "markdown",
   "metadata": {},
   "source": [
    "### Arithmetics with arrays"
   ]
  },
  {
   "cell_type": "code",
   "execution_count": null,
   "metadata": {},
   "outputs": [],
   "source": [
    "a1 = np.random.randint(4, 12, size=(3,5))\n",
    "a2 = np.array([[1], \n",
    "               [2], \n",
    "               [4]])\n",
    "a3 = np.array([[1,3,5,7,9]])\n",
    "print('Size of a1: ', a1.shape)\n",
    "print('Size of a2: ', a2.shape)\n",
    "print('Size of a3: ', a3.shape)\n",
    "\n",
    "# addition via broadcasting - note row dimension are the same for both arrays\n",
    "print('Original a1:\\n', a1, '\\n')\n",
    "print('After adding a2:\\n', a1+a2)"
   ]
  },
  {
   "cell_type": "code",
   "execution_count": null,
   "metadata": {},
   "outputs": [],
   "source": [
    "# multiplication via broadcasting - note column dimension are the same for both arrays\n",
    "print('Original a1:\\n', a1, '\\n')\n",
    "print('After multiplying a3:\\n', a1*a3)"
   ]
  },
  {
   "cell_type": "markdown",
   "metadata": {},
   "source": [
    "### Descriptive statistics"
   ]
  },
  {
   "cell_type": "code",
   "execution_count": null,
   "metadata": {},
   "outputs": [],
   "source": [
    "# min\n",
    "print('Min (row-wise): ', a1.min(axis=1))\n",
    "print('Min (column-wise): ', a1.min(axis=0))\n",
    "# max\n",
    "print('Max (row-wise): ', a1.max(axis=1))\n",
    "print('Max (column-wise): ', a1.max(axis=0))\n",
    "# index of min value (argmin)\n",
    "print('Index of Min (row-wise): ', a1.argmin(axis=1))\n",
    "print('Index of Min (column-wise): ', a1.argmin(axis=0))\n",
    "# index of max value (argmax)\n",
    "print('Index of Max (row-wise): ', a1.argmax(axis=1))\n",
    "print('Index of Max (column-wise): ', a1.argmax(axis=0))\n",
    "# mean\n",
    "print('Mean (row-wise): ', a1.mean(axis=1))\n",
    "print('Mean (column-wise): ', a1.mean(axis=0))\n",
    "# median\n",
    "print('Median (row-wise): ', np.median(a1, axis=1))\n",
    "print('Median (column-wise): ', np.median(a1, axis=0))\n",
    "# standard deviation\n",
    "print('Std Dev (row-wise): ', np.std(a1, axis=1))\n",
    "print('Std Dev (column-wise): ', np.std(a1, axis=0))"
   ]
  },
  {
   "cell_type": "code",
   "execution_count": null,
   "metadata": {},
   "outputs": [],
   "source": []
  }
 ],
 "metadata": {
  "kernelspec": {
   "display_name": "Python 3",
   "language": "python",
   "name": "python3"
  },
  "language_info": {
   "codemirror_mode": {
    "name": "ipython",
    "version": 3
   },
   "file_extension": ".py",
   "mimetype": "text/x-python",
   "name": "python",
   "nbconvert_exporter": "python",
   "pygments_lexer": "ipython3",
   "version": "3.9.0"
  }
 },
 "nbformat": 4,
 "nbformat_minor": 4
}
